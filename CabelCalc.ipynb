{
  "nbformat": 4,
  "nbformat_minor": 5,
  "metadata": {
    "kernelspec": {
      "display_name": "Python 3",
      "language": "python",
      "name": "python3"
    },
    "language_info": {
      "codemirror_mode": {
        "name": "ipython",
        "version": 3
      },
      "file_extension": ".py",
      "mimetype": "text/x-python",
      "name": "python",
      "nbconvert_exporter": "python",
      "pygments_lexer": "ipython3",
      "version": "3.9.1"
    },
    "colab": {
      "name": "CabelCalc.ipynb",
      "provenance": [],
      "collapsed_sections": [],
      "toc_visible": true
    }
  },
  "cells": [
    {
      "cell_type": "code",
      "metadata": {
        "id": "critical-program",
        "colab": {
          "base_uri": "https://localhost:8080/",
          "height": 248
        },
        "outputId": "47fe7fcd-a7f3-442a-f764-bb7baddc3e47"
      },
      "source": [
        "import math as m\n",
        "# Программа для определения параметров сечения токопроводящего кабеля\n",
        "# Массив для хранения номинальных площадей сечений проводника (мм^2) по ГОСТ 22483 - 2012\n",
        "S = [0.5, 0.75, 1, 1.2, 1.5, 2, 2.5, 3, 4, 5, 6, 8, 10, 16, 25, 35, 50, 70, 95]\n",
        "i = 0\n",
        "\n",
        "# Вводим начальные данные\n",
        "Imax = float(input(\"Введите предполагаемую силу тока на проводнике: \"))\n",
        "# Открываем файл с таблицей AWG\n",
        "with open(\"AWGtable.txt\", \"r\") as f:\n",
        "    for line in f.readlines():\n",
        "        print(line)\n",
        "# Величина плотности тока для меди и алюминия разная\n",
        "if cuprum:\n",
        "    print(\"Материал жилы: Медь.\")\n",
        "    s = Imax / 3.5\n",
        "else:\n",
        "    print(\"Материал жилы: Алюминий.\")\n",
        "    s = Imax / 1.9\n",
        " \n",
        "print(\"Расчётная площадь сечения проводника: %.3f мм2\" %s)\n",
        "for i in range(len(S)):\n",
        "    if(s > S[i-1] and s < S[i] and Imax < I[i]):\n",
        "        s = S[i]\n",
        "print(\"Округлённая площадь сечения проводника: %.3f мм2\" %s)\n",
        "d = m.sqrt(4 * s / m.pi)\n",
        "print(\"Диаметр проводника %.3f мм\" %d)"
      ],
      "id": "critical-program",
      "execution_count": null,
      "outputs": [
        {
          "output_type": "stream",
          "text": [
            "Введите предполагаемую силу тока на проводнике: 10\n"
          ],
          "name": "stdout"
        },
        {
          "output_type": "error",
          "ename": "FileNotFoundError",
          "evalue": "ignored",
          "traceback": [
            "\u001b[0;31m---------------------------------------------------------------------------\u001b[0m",
            "\u001b[0;31mFileNotFoundError\u001b[0m                         Traceback (most recent call last)",
            "\u001b[0;32m<ipython-input-7-0edd9d90e413>\u001b[0m in \u001b[0;36m<module>\u001b[0;34m()\u001b[0m\n\u001b[1;32m      8\u001b[0m \u001b[0mImax\u001b[0m \u001b[0;34m=\u001b[0m \u001b[0mfloat\u001b[0m\u001b[0;34m(\u001b[0m\u001b[0minput\u001b[0m\u001b[0;34m(\u001b[0m\u001b[0;34m\"Введите предполагаемую силу тока на проводнике: \"\u001b[0m\u001b[0;34m)\u001b[0m\u001b[0;34m)\u001b[0m\u001b[0;34m\u001b[0m\u001b[0;34m\u001b[0m\u001b[0m\n\u001b[1;32m      9\u001b[0m \u001b[0;31m# Открываем файл с таблицей AWG\u001b[0m\u001b[0;34m\u001b[0m\u001b[0;34m\u001b[0m\u001b[0;34m\u001b[0m\u001b[0m\n\u001b[0;32m---> 10\u001b[0;31m \u001b[0;32mwith\u001b[0m \u001b[0mopen\u001b[0m\u001b[0;34m(\u001b[0m\u001b[0;34m\"AWGtable.txt\"\u001b[0m\u001b[0;34m,\u001b[0m \u001b[0;34m\"r\"\u001b[0m\u001b[0;34m)\u001b[0m \u001b[0;32mas\u001b[0m \u001b[0mf\u001b[0m\u001b[0;34m:\u001b[0m\u001b[0;34m\u001b[0m\u001b[0;34m\u001b[0m\u001b[0m\n\u001b[0m\u001b[1;32m     11\u001b[0m     \u001b[0;32mfor\u001b[0m \u001b[0mline\u001b[0m \u001b[0;32min\u001b[0m \u001b[0mf\u001b[0m\u001b[0;34m.\u001b[0m\u001b[0mreadlines\u001b[0m\u001b[0;34m(\u001b[0m\u001b[0;34m)\u001b[0m\u001b[0;34m:\u001b[0m\u001b[0;34m\u001b[0m\u001b[0;34m\u001b[0m\u001b[0m\n\u001b[1;32m     12\u001b[0m         \u001b[0mprint\u001b[0m\u001b[0;34m(\u001b[0m\u001b[0mline\u001b[0m\u001b[0;34m)\u001b[0m\u001b[0;34m\u001b[0m\u001b[0;34m\u001b[0m\u001b[0m\n",
            "\u001b[0;31mFileNotFoundError\u001b[0m: [Errno 2] No such file or directory: 'AWGtable.txt'"
          ]
        }
      ]
    },
    {
      "cell_type": "code",
      "metadata": {
        "id": "searching-youth",
        "outputId": "30d6212a-337b-4109-dec7-3a8163a85675"
      },
      "source": [
        "# Программа для расчёта ширины дорожки в плате, при стандартной толщине листа 35 мкм\n",
        "out = True # 1 - Внешний слой, 0 - Внутренний слой\n",
        "T = 1 # Толщина фольги: 1 унция = 35 мкм\n",
        "# Константы из стандарта IPC-2221\n",
        "b = 0.44\n",
        "c = 0.725\n",
        "k = 0.048\n",
        "k1 = 0.024\n",
        "# Рассчитваем повышение температуры (60 - максимально допустимое)\n",
        "t = 60 - float(input(\"Введите температуру окружающей среды:\"))\n",
        "# Вводим силу тока\n",
        "I = float(input(\"Введите максимальную силу тока:\"))\n",
        "\n",
        "# Вычисляем площадь сечения и ширину дорожки \n",
        "S = pow(I / (k * pow(t,b)), 1/c)\n",
        "print(\"Для внешних слоёв.\")\n",
        "print(\"Площадь сечения дорожки (мил^2): %.3f\" % S)\n",
        "print(\"Ширина дорожки (мил): %.3f\" %(S / 1.378 * T))\n",
        "print(\"Ширина дорожки (мм): %.3f\" %((S / 1.378 * T)  / 39.37))\n",
        "print(\"\")\n",
        "\n",
        "S1 = pow(I / (k1 * pow(t,b)), 1/c)\n",
        "print(\"Для внутренних слоёв.\")\n",
        "print(\"Площадь сечения дорожки (мил^2): %.3f\" %S1)\n",
        "print(\"Ширина дорожки (мил): %.3f\" %(S1 / 1.378 * T))\n",
        "print(\"Ширина дорожки (мм): %.3f\" %((S1 / 1.378 * T)  / 39.37))"
      ],
      "id": "searching-youth",
      "execution_count": null,
      "outputs": [
        {
          "output_type": "stream",
          "text": [
            "Введите температуру окружающей среды: \n",
            "25\n",
            "Введите максимальную силу тока: \n",
            "1\n",
            "Для внешних слоёв.\n",
            "Площадь сечения дорожки (мил^2): 7.619\n",
            "Ширина дорожки (мил): 5.529\n",
            "Ширина дорожки (мм): 0.140\n",
            "\n",
            "Для внутренних слоёв.\n",
            "Площадь сечения дорожки (мил^2): 19.820\n",
            "Ширина дорожки (мил): 14.383\n",
            "Ширина дорожки (мм): 0.365\n"
          ],
          "name": "stdout"
        }
      ]
    },
    {
      "cell_type": "code",
      "metadata": {
        "id": "superb-joint",
        "outputId": "a988b196-80f1-4583-d7b2-8253c3b78638"
      },
      "source": [
        "# Программа для приблизительного расчёта температуры одножильного медного провода под нагрузкой\n",
        "\n",
        "# Словарь с номинальными сечениями проводников и их допустимыми длительными токами (мм2:А)\n",
        "SI_table = {0.5:11, 0.75:15, 1:17, 1.2:20, 1.5:23, 2:26, 2.5:30, 3:34, 4:41, 5:46, 6:50, 8:62, 10:80, 16:100, 25:140, 35:170, \n",
        "     50:215, 70:270, 95:330}\n",
        "\n",
        "# Ввод первоначальных данных\n",
        "S = float(input(\"Введите площадь сечения проводника (мм2):\"))\n",
        "I = float(input(\"Введите силу тока на проводнике (А):\"))\n",
        "t0 = float(input(\"Введите температуру окружающей среды ( С):\"))\n",
        "t1 = float(input(\"Введите допустимую температуру нагрева ( С):\"))\n",
        "\n",
        "# Находим в словаре нужную площадь сечения и допустимый ток\n",
        "for key in SI_table.keys():\n",
        "    It = SI_table.get(S)\n",
        "\n",
        "# Расчитываем температуру проводника\n",
        "ts = ((t1-t0) * pow(I / It,2)) + t1\n",
        "print(\"Температура проводника: %.3f C\" %ts)"
      ],
      "id": "superb-joint",
      "execution_count": null,
      "outputs": [
        {
          "output_type": "stream",
          "text": [
            "Введите площадь сечения проводника (мм2): 1\n",
            "Введите силу тока на проводнике (А): 13\n",
            "Введите температуру окружающей среды ( С): 25\n",
            "Введите допустимую температуру нагрева ( С): 65\n",
            "Температура проводника: 88.391 C\n"
          ],
          "name": "stdout"
        }
      ]
    },
    {
      "cell_type": "code",
      "metadata": {
        "id": "biblical-horse",
        "colab": {
          "base_uri": "https://localhost:8080/"
        },
        "outputId": "63098d1b-678b-45a2-9da1-857c8de7c241"
      },
      "source": [
        "import math as m\n",
        "# Программа для определения параметров сечения токопроводящего кабеля\n",
        "# Массив для хранения номинальных площадей сечений проводника (мм^2) по ГОСТ 22483 - 2012\n",
        "S_GOST = [0.5, 0.75, 1, 1.2, 1.5, 2, 2.5, 3, 4, 5, 6, 8, 10, 16, 25, 35, 50, 70, 95]\n",
        "AWG = []\n",
        "S_AWG = []\n",
        "I = []\n",
        "\n",
        "# Вводим начальные данные\n",
        "In = float(input(\"Введите предполагаемую силу тока на проводнике: \"))\n",
        "# Открываем файл с таблицей AWG\n",
        "with open(\"AWGtable.txt\", \"r\") as f:\n",
        "    for line in f.readlines():\n",
        "        parametrs = line.split(' ')\n",
        "        AWG.append(int(parametrs[0]))\n",
        "        S_AWG.append(float(parametrs[1]))\n",
        "        I.append(float(parametrs[2]))\n",
        "\n",
        "for i in range(len(I)):\n",
        "    if I[i] > In > I[i+1]:\n",
        "        print(\"Табличный ток: %.3f А\" %I[i])\n",
        "        print(\"Номер AWG: %.0f\" %AWG[i])\n",
        "        print(\"Диаметр сечения проводника: %.3f мм2\" %S_AWG[i])\n",
        "        s = S_AWG[i]\n",
        "    else:\n",
        "        continue\n",
        "\n",
        "d = m.sqrt(4 * s / m.pi)\n",
        "print(\"Диаметр токопроводящей жилы по AWG: %.3f мм\" %d)\n",
        "print(\" \")\n",
        "\n",
        "for i in range(len(S)):\n",
        "    if(s > S[i-1] and s < S[i]):\n",
        "        print(\"Ближайшая площадь сечения проводника по ГОСТ 22483: %.3f мм2\" %S[i])\n",
        "        d = m.sqrt(4 * S[i] / m.pi)\n",
        "        print(\"Диаметр токопроводящей жилы по ГОСТ: %.3f мм\" %d)"
      ],
      "id": "biblical-horse",
      "execution_count": 18,
      "outputs": [
        {
          "output_type": "stream",
          "text": [
            "Введите предполагаемую силу тока на проводнике: 8.3\n",
            "Табличный ток: 10.000 А\n",
            "Номер AWG: 17\n",
            "Диаметр сечения проводника: 1.040 мм2\n",
            "Диаметр токопроводящей жилы по AWG: 1.151 мм\n",
            " \n",
            "Ближайшая площадь сечения проводника по ГОСТ 22483: 1.200 мм2\n",
            "Диаметр токопроводящей жилы по ГОСТ: 1.236 мм\n"
          ],
          "name": "stdout"
        }
      ]
    },
    {
      "cell_type": "code",
      "metadata": {
        "id": "upVd4HAJEBli"
      },
      "source": [
        ""
      ],
      "id": "upVd4HAJEBli",
      "execution_count": null,
      "outputs": []
    }
  ]
}